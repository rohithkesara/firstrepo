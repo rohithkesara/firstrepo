{
 "cells": [
  {
   "cell_type": "markdown",
   "id": "fc672868-1f63-4f16-a818-6fc47f685dfd",
   "metadata": {
    "tags": []
   },
   "source": [
    "# Data Science Tools and Ecosystem"
   ]
  },
  {
   "cell_type": "markdown",
   "id": "9a7aae89-7e9b-4b9c-b813-dae2cbedde52",
   "metadata": {},
   "source": [
    "In this notebook, Data Science Tools and Ecosystem are summarized."
   ]
  },
  {
   "cell_type": "markdown",
   "id": "a6755321-91df-4a15-87d7-d2510d8483c7",
   "metadata": {
    "tags": []
   },
   "source": [
    "**Objectives:**\n",
    "\n",
    "* List popular languages for Data science\n",
    "* List commonly used libraries in Data science\n",
    "* List few open source tools for data science\n",
    "* Evaluate expressions\n"
   ]
  },
  {
   "cell_type": "markdown",
   "id": "26f6545c-8f04-4559-b0c7-d332a51fe70a",
   "metadata": {
    "tags": []
   },
   "source": [
    "Some of the popular languages that Data Scientists use are:\n",
    "\n",
    "    1.Python\n",
    "    2.R\n",
    "    3.Julia\n",
    "    4.Java"
   ]
  },
  {
   "cell_type": "markdown",
   "id": "4bbccc5b-a3e1-457f-8597-d259f22626fc",
   "metadata": {
    "tags": []
   },
   "source": [
    "Some of the commonly used libraries used by Data Scientists include:\n",
    "\n",
    "    1.Tensor Flow\n",
    "    2.PyTorch\n",
    "    3.SciPy\n",
    "    4.Keras\n",
    "    5.Plotly\n",
    "    "
   ]
  },
  {
   "cell_type": "markdown",
   "id": "f3f9324c-89ce-4f71-ab2a-e151ef78eebc",
   "metadata": {},
   "source": [
    "Data Science Tools|\n",
    "-------------------\n",
    "Apache Spark|\n",
    "Jupyter Notebook|\n",
    "Python|"
   ]
  },
  {
   "cell_type": "markdown",
   "id": "ccfa7aeb-ab09-4ada-a6e0-aeced79a6f81",
   "metadata": {},
   "source": [
    "### Below are a few examples of evaluating arithmetic expressions in Python"
   ]
  },
  {
   "cell_type": "code",
   "execution_count": 11,
   "id": "0fba7793-3608-44a5-85d8-fac8ba6a5af4",
   "metadata": {
    "tags": []
   },
   "outputs": [
    {
     "data": {
      "text/plain": [
       "17"
      ]
     },
     "execution_count": 11,
     "metadata": {},
     "output_type": "execute_result"
    }
   ],
   "source": [
    "# This a simple arithmetic expression to mutiply then add integers\n",
    "\n",
    "(3*4)+5"
   ]
  },
  {
   "cell_type": "code",
   "execution_count": 12,
   "id": "fc019a4a-ba90-48fc-bf0e-b8c874d0c82e",
   "metadata": {
    "tags": []
   },
   "outputs": [
    {
     "data": {
      "text/plain": [
       "3.3333333333333335"
      ]
     },
     "execution_count": 12,
     "metadata": {},
     "output_type": "execute_result"
    }
   ],
   "source": [
    "# This will convert 200 minutes to hours by diving by 60\n",
    "\n",
    "200/60"
   ]
  },
  {
   "cell_type": "markdown",
   "id": "696fac27-2c94-4265-9d59-41986ddf7bc4",
   "metadata": {
    "tags": []
   },
   "source": [
    "## Author\n",
    "Rohith Keesara\n"
   ]
  },
  {
   "cell_type": "code",
   "execution_count": null,
   "id": "d08225fa-7b6f-4f76-8adf-39f38d15bcbc",
   "metadata": {},
   "outputs": [],
   "source": []
  }
 ],
 "metadata": {
  "kernelspec": {
   "display_name": "Python",
   "language": "python",
   "name": "conda-env-python-py"
  },
  "language_info": {
   "codemirror_mode": {
    "name": "ipython",
    "version": 3
   },
   "file_extension": ".py",
   "mimetype": "text/x-python",
   "name": "python",
   "nbconvert_exporter": "python",
   "pygments_lexer": "ipython3",
   "version": "3.7.12"
  }
 },
 "nbformat": 4,
 "nbformat_minor": 5
}
